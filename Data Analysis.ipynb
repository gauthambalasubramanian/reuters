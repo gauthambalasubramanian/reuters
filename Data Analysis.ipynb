{
 "cells": [
  {
   "cell_type": "code",
   "execution_count": 22,
   "id": "e464256e-30b6-428e-9d14-922fd3edfbda",
   "metadata": {},
   "outputs": [],
   "source": [
    "import nltk\n",
    "import json\n",
    "import pandas as pd\n",
    "from collections import defaultdict"
   ]
  },
  {
   "cell_type": "code",
   "execution_count": 2,
   "id": "962d810e-b152-4161-9ff5-b79210d29d36",
   "metadata": {},
   "outputs": [
    {
     "name": "stderr",
     "output_type": "stream",
     "text": [
      "[nltk_data] Downloading package reuters to /Users/gautham/nltk_data...\n"
     ]
    },
    {
     "data": {
      "text/plain": [
       "True"
      ]
     },
     "execution_count": 2,
     "metadata": {},
     "output_type": "execute_result"
    }
   ],
   "source": [
    "nltk.download('reuters')"
   ]
  },
  {
   "cell_type": "code",
   "execution_count": 3,
   "id": "1fc99c61-8a6c-4306-bae3-29e0d0af087c",
   "metadata": {},
   "outputs": [],
   "source": [
    "from nltk.corpus import reuters"
   ]
  },
  {
   "cell_type": "code",
   "execution_count": 10,
   "id": "69711591-8827-4820-8155-6856da6031b1",
   "metadata": {},
   "outputs": [
    {
     "name": "stdout",
     "output_type": "stream",
     "text": [
      "Number of categories -  90\n"
     ]
    }
   ],
   "source": [
    "labels = reuters.categories()\n",
    "print('Number of categories - ', len(labels))"
   ]
  },
  {
   "cell_type": "markdown",
   "id": "e81f7724-b91d-49bc-b460-17c88f22a143",
   "metadata": {},
   "source": [
    "> There are **90** different categories in the dataset"
   ]
  },
  {
   "cell_type": "markdown",
   "id": "69e62f5a-1ac8-4f52-a3b0-5bc33bf54b48",
   "metadata": {},
   "source": [
    "## Prepare a DataFrame"
   ]
  },
  {
   "cell_type": "code",
   "execution_count": 11,
   "id": "91b4b374-b817-4100-9a4e-13195f01e7fe",
   "metadata": {},
   "outputs": [],
   "source": [
    "doc_ids = reuters.fileids()"
   ]
  },
  {
   "cell_type": "code",
   "execution_count": 14,
   "id": "80c4f4cc-825f-4902-819f-eac7049c4e52",
   "metadata": {},
   "outputs": [],
   "source": [
    "df_list = []\n",
    "for doc_id in doc_ids:\n",
    "    df_dict = {}\n",
    "    df_dict['text'] = reuters.raw(doc_id)\n",
    "    df_dict['labels'] = reuters.categories(doc_id)\n",
    "    df_list.append(df_dict)\n",
    "df = pd.DataFrame(df_list)"
   ]
  },
  {
   "cell_type": "code",
   "execution_count": 15,
   "id": "7e73a77f-7440-42e6-8f61-79b704d0309d",
   "metadata": {},
   "outputs": [
    {
     "data": {
      "text/html": [
       "<div>\n",
       "<style scoped>\n",
       "    .dataframe tbody tr th:only-of-type {\n",
       "        vertical-align: middle;\n",
       "    }\n",
       "\n",
       "    .dataframe tbody tr th {\n",
       "        vertical-align: top;\n",
       "    }\n",
       "\n",
       "    .dataframe thead th {\n",
       "        text-align: right;\n",
       "    }\n",
       "</style>\n",
       "<table border=\"1\" class=\"dataframe\">\n",
       "  <thead>\n",
       "    <tr style=\"text-align: right;\">\n",
       "      <th></th>\n",
       "      <th>text</th>\n",
       "      <th>labels</th>\n",
       "    </tr>\n",
       "  </thead>\n",
       "  <tbody>\n",
       "    <tr>\n",
       "      <th>0</th>\n",
       "      <td>ASIAN EXPORTERS FEAR DAMAGE FROM U.S.-JAPAN RI...</td>\n",
       "      <td>[trade]</td>\n",
       "    </tr>\n",
       "    <tr>\n",
       "      <th>1</th>\n",
       "      <td>CHINA DAILY SAYS VERMIN EAT 7-12 PCT GRAIN STO...</td>\n",
       "      <td>[grain]</td>\n",
       "    </tr>\n",
       "    <tr>\n",
       "      <th>2</th>\n",
       "      <td>JAPAN TO REVISE LONG-TERM ENERGY DEMAND DOWNWA...</td>\n",
       "      <td>[crude, nat-gas]</td>\n",
       "    </tr>\n",
       "    <tr>\n",
       "      <th>3</th>\n",
       "      <td>THAI TRADE DEFICIT WIDENS IN FIRST QUARTER\\n  ...</td>\n",
       "      <td>[corn, grain, rice, rubber, sugar, tin, trade]</td>\n",
       "    </tr>\n",
       "    <tr>\n",
       "      <th>4</th>\n",
       "      <td>INDONESIA SEES CPO PRICE RISING SHARPLY\\n  Ind...</td>\n",
       "      <td>[palm-oil, veg-oil]</td>\n",
       "    </tr>\n",
       "    <tr>\n",
       "      <th>...</th>\n",
       "      <td>...</td>\n",
       "      <td>...</td>\n",
       "    </tr>\n",
       "    <tr>\n",
       "      <th>10783</th>\n",
       "      <td>U.K. MONEY MARKET SHORTAGE FORECAST REVISED DO...</td>\n",
       "      <td>[interest, money-fx]</td>\n",
       "    </tr>\n",
       "    <tr>\n",
       "      <th>10784</th>\n",
       "      <td>KNIGHT-RIDDER INC &amp;lt;KRN&gt; SETS QUARTERLY\\n  Q...</td>\n",
       "      <td>[earn]</td>\n",
       "    </tr>\n",
       "    <tr>\n",
       "      <th>10785</th>\n",
       "      <td>TECHNITROL INC &amp;lt;TNL&gt; SETS QUARTERLY\\n  Qtly...</td>\n",
       "      <td>[earn]</td>\n",
       "    </tr>\n",
       "    <tr>\n",
       "      <th>10786</th>\n",
       "      <td>NATIONWIDE CELLULAR SERVICE INC &amp;lt;NCEL&gt; 4TH ...</td>\n",
       "      <td>[earn]</td>\n",
       "    </tr>\n",
       "    <tr>\n",
       "      <th>10787</th>\n",
       "      <td>&amp;lt;A.H.A. AUTOMOTIVE TECHNOLOGIES CORP&gt; YEAR ...</td>\n",
       "      <td>[earn]</td>\n",
       "    </tr>\n",
       "  </tbody>\n",
       "</table>\n",
       "<p>10788 rows × 2 columns</p>\n",
       "</div>"
      ],
      "text/plain": [
       "                                                    text  \\\n",
       "0      ASIAN EXPORTERS FEAR DAMAGE FROM U.S.-JAPAN RI...   \n",
       "1      CHINA DAILY SAYS VERMIN EAT 7-12 PCT GRAIN STO...   \n",
       "2      JAPAN TO REVISE LONG-TERM ENERGY DEMAND DOWNWA...   \n",
       "3      THAI TRADE DEFICIT WIDENS IN FIRST QUARTER\\n  ...   \n",
       "4      INDONESIA SEES CPO PRICE RISING SHARPLY\\n  Ind...   \n",
       "...                                                  ...   \n",
       "10783  U.K. MONEY MARKET SHORTAGE FORECAST REVISED DO...   \n",
       "10784  KNIGHT-RIDDER INC &lt;KRN> SETS QUARTERLY\\n  Q...   \n",
       "10785  TECHNITROL INC &lt;TNL> SETS QUARTERLY\\n  Qtly...   \n",
       "10786  NATIONWIDE CELLULAR SERVICE INC &lt;NCEL> 4TH ...   \n",
       "10787  &lt;A.H.A. AUTOMOTIVE TECHNOLOGIES CORP> YEAR ...   \n",
       "\n",
       "                                               labels  \n",
       "0                                             [trade]  \n",
       "1                                             [grain]  \n",
       "2                                    [crude, nat-gas]  \n",
       "3      [corn, grain, rice, rubber, sugar, tin, trade]  \n",
       "4                                 [palm-oil, veg-oil]  \n",
       "...                                               ...  \n",
       "10783                            [interest, money-fx]  \n",
       "10784                                          [earn]  \n",
       "10785                                          [earn]  \n",
       "10786                                          [earn]  \n",
       "10787                                          [earn]  \n",
       "\n",
       "[10788 rows x 2 columns]"
      ]
     },
     "execution_count": 15,
     "metadata": {},
     "output_type": "execute_result"
    }
   ],
   "source": [
    "df"
   ]
  },
  {
   "cell_type": "code",
   "execution_count": 60,
   "id": "4cfb1d5b-c43b-4159-96ad-377088c32fbc",
   "metadata": {},
   "outputs": [],
   "source": [
    "df.to_csv('multi_label_df.csv', index=False)"
   ]
  },
  {
   "cell_type": "markdown",
   "id": "6155b911-41ea-413d-941a-0bfd2bc820a9",
   "metadata": {},
   "source": [
    "## Analysis"
   ]
  },
  {
   "cell_type": "code",
   "execution_count": 16,
   "id": "c69c71da-09a0-4ea8-afc9-14bb36463328",
   "metadata": {},
   "outputs": [],
   "source": [
    "df['num_labels'] = df['labels'].apply(lambda x: len(x))"
   ]
  },
  {
   "cell_type": "code",
   "execution_count": 20,
   "id": "97f51d8a-c570-4a6c-a9e6-c80d8b59b2f1",
   "metadata": {},
   "outputs": [
    {
     "data": {
      "text/html": [
       "<div>\n",
       "<style scoped>\n",
       "    .dataframe tbody tr th:only-of-type {\n",
       "        vertical-align: middle;\n",
       "    }\n",
       "\n",
       "    .dataframe tbody tr th {\n",
       "        vertical-align: top;\n",
       "    }\n",
       "\n",
       "    .dataframe thead th {\n",
       "        text-align: right;\n",
       "    }\n",
       "</style>\n",
       "<table border=\"1\" class=\"dataframe\">\n",
       "  <thead>\n",
       "    <tr style=\"text-align: right;\">\n",
       "      <th></th>\n",
       "      <th>num_labels</th>\n",
       "      <th>count</th>\n",
       "    </tr>\n",
       "  </thead>\n",
       "  <tbody>\n",
       "    <tr>\n",
       "      <th>0</th>\n",
       "      <td>1</td>\n",
       "      <td>9160</td>\n",
       "    </tr>\n",
       "    <tr>\n",
       "      <th>1</th>\n",
       "      <td>2</td>\n",
       "      <td>1173</td>\n",
       "    </tr>\n",
       "    <tr>\n",
       "      <th>2</th>\n",
       "      <td>3</td>\n",
       "      <td>255</td>\n",
       "    </tr>\n",
       "    <tr>\n",
       "      <th>3</th>\n",
       "      <td>4</td>\n",
       "      <td>91</td>\n",
       "    </tr>\n",
       "    <tr>\n",
       "      <th>4</th>\n",
       "      <td>5</td>\n",
       "      <td>52</td>\n",
       "    </tr>\n",
       "    <tr>\n",
       "      <th>5</th>\n",
       "      <td>6</td>\n",
       "      <td>27</td>\n",
       "    </tr>\n",
       "    <tr>\n",
       "      <th>6</th>\n",
       "      <td>7</td>\n",
       "      <td>9</td>\n",
       "    </tr>\n",
       "    <tr>\n",
       "      <th>7</th>\n",
       "      <td>8</td>\n",
       "      <td>7</td>\n",
       "    </tr>\n",
       "    <tr>\n",
       "      <th>8</th>\n",
       "      <td>9</td>\n",
       "      <td>5</td>\n",
       "    </tr>\n",
       "    <tr>\n",
       "      <th>9</th>\n",
       "      <td>10</td>\n",
       "      <td>3</td>\n",
       "    </tr>\n",
       "    <tr>\n",
       "      <th>10</th>\n",
       "      <td>14</td>\n",
       "      <td>2</td>\n",
       "    </tr>\n",
       "    <tr>\n",
       "      <th>11</th>\n",
       "      <td>11</td>\n",
       "      <td>2</td>\n",
       "    </tr>\n",
       "    <tr>\n",
       "      <th>12</th>\n",
       "      <td>12</td>\n",
       "      <td>1</td>\n",
       "    </tr>\n",
       "    <tr>\n",
       "      <th>13</th>\n",
       "      <td>15</td>\n",
       "      <td>1</td>\n",
       "    </tr>\n",
       "  </tbody>\n",
       "</table>\n",
       "</div>"
      ],
      "text/plain": [
       "    num_labels  count\n",
       "0            1   9160\n",
       "1            2   1173\n",
       "2            3    255\n",
       "3            4     91\n",
       "4            5     52\n",
       "5            6     27\n",
       "6            7      9\n",
       "7            8      7\n",
       "8            9      5\n",
       "9           10      3\n",
       "10          14      2\n",
       "11          11      2\n",
       "12          12      1\n",
       "13          15      1"
      ]
     },
     "execution_count": 20,
     "metadata": {},
     "output_type": "execute_result"
    }
   ],
   "source": [
    "value_counts_df = df['num_labels'].value_counts().reset_index()\n",
    "value_counts_df"
   ]
  },
  {
   "cell_type": "code",
   "execution_count": 21,
   "id": "b719533f-3e3c-4249-87bc-b2651c7797fc",
   "metadata": {},
   "outputs": [
    {
     "data": {
      "text/plain": [
       "0    0.849092\n",
       "Name: count, dtype: float64"
      ]
     },
     "execution_count": 21,
     "metadata": {},
     "output_type": "execute_result"
    }
   ],
   "source": [
    "value_counts_df[value_counts_df['num_labels']==1]['count']/value_counts_df['count'].sum()"
   ]
  },
  {
   "cell_type": "markdown",
   "id": "07082afc-0be9-45e3-815f-6d83259bb80d",
   "metadata": {},
   "source": [
    "> We see that around **85 percent** of the data has single label"
   ]
  },
  {
   "cell_type": "markdown",
   "id": "08ad1e94-0fe6-4a53-ba6d-b820ea922b19",
   "metadata": {},
   "source": [
    "Assumptions\n",
    "1. Can be treated as a Multi class single label classification problem for simplicity\n",
    "2. Can be Treated as a multi label classification problem"
   ]
  },
  {
   "cell_type": "markdown",
   "id": "be01ed95-196c-405b-9fbf-7e3eea07fb4e",
   "metadata": {},
   "source": [
    "## Data Preparation"
   ]
  },
  {
   "cell_type": "markdown",
   "id": "5e23c98f-2b19-4216-81c2-a0fbb09feeab",
   "metadata": {},
   "source": [
    "For the classes that has multiple labels, convert it into a single label by using one of the approximation techniques below\n",
    "1. Simplest way to do this would be to take the first label as the primary label for the record\n",
    "2. We can choose to approximate this by choosing the label which occurs most in the dataset. This makes the learning task simpler for the model\n",
    "3. We can choose the labels to represet the least occuring label to add support to minority class. This can make the learning task difficult\n",
    "\n",
    "> By converting the multi label to single label, we may lose valuable information and a well generelized model may behave unpredictably for the records which originally had multiple labels. But since this exercise is to demonstrate technical capabilities, continuing with the approximation"
   ]
  },
  {
   "cell_type": "code",
   "execution_count": 25,
   "id": "3ca81483-69da-4170-ab16-b2ecbb310bf7",
   "metadata": {},
   "outputs": [],
   "source": [
    "label_counts = defaultdict(lambda: 0)\n",
    "for i in range(len(df)):\n",
    "    labels = df['labels'].iloc[i]\n",
    "    for label in labels:\n",
    "        label_counts[label] += 1"
   ]
  },
  {
   "cell_type": "code",
   "execution_count": 32,
   "id": "a67523fe-dfcf-4551-b87d-47557f11be92",
   "metadata": {},
   "outputs": [],
   "source": [
    "sorted_label_counts = dict(sorted(label_counts.items(), key=lambda item: item[1], reverse=True))\n",
    "sorted_label_keys = [item for item in sorted_label_counts]"
   ]
  },
  {
   "cell_type": "code",
   "execution_count": 34,
   "id": "e350a875-f2c0-4e9d-8288-e53c0740e9a5",
   "metadata": {},
   "outputs": [],
   "source": [
    "label_rank_lookup = {key: rank + 1 for rank, key in enumerate(sorted_label_keys)}"
   ]
  },
  {
   "cell_type": "code",
   "execution_count": 38,
   "id": "48a69c7d-63aa-4568-8b7d-ecd442ca7ab5",
   "metadata": {},
   "outputs": [],
   "source": [
    "def get_most_occuring_label(label_list, lookup = label_rank_lookup):\n",
    "    rank = 100\n",
    "    return_value  = None\n",
    "    for item in label_list:\n",
    "        if lookup[item]< rank:\n",
    "            rank = lookup[item]\n",
    "            return_value = item\n",
    "    return return_value"
   ]
  },
  {
   "cell_type": "code",
   "execution_count": 45,
   "id": "e3857e47-bbdc-4e6d-90cb-ac62c594fa39",
   "metadata": {},
   "outputs": [],
   "source": [
    "single_label_df = df.copy(deep=True)"
   ]
  },
  {
   "cell_type": "code",
   "execution_count": 47,
   "id": "a75ec14d-f68a-4c26-8f16-13ff39c45078",
   "metadata": {},
   "outputs": [],
   "source": [
    "single_label_df['top_label'] = single_label_df['labels'].apply(lambda x: get_most_occuring_label(x))"
   ]
  },
  {
   "cell_type": "code",
   "execution_count": 48,
   "id": "397131eb-909f-4df2-98de-ef356a148ae3",
   "metadata": {},
   "outputs": [
    {
     "data": {
      "text/html": [
       "<div>\n",
       "<style scoped>\n",
       "    .dataframe tbody tr th:only-of-type {\n",
       "        vertical-align: middle;\n",
       "    }\n",
       "\n",
       "    .dataframe tbody tr th {\n",
       "        vertical-align: top;\n",
       "    }\n",
       "\n",
       "    .dataframe thead th {\n",
       "        text-align: right;\n",
       "    }\n",
       "</style>\n",
       "<table border=\"1\" class=\"dataframe\">\n",
       "  <thead>\n",
       "    <tr style=\"text-align: right;\">\n",
       "      <th></th>\n",
       "      <th>text</th>\n",
       "      <th>labels</th>\n",
       "      <th>num_labels</th>\n",
       "      <th>top_label</th>\n",
       "    </tr>\n",
       "  </thead>\n",
       "  <tbody>\n",
       "    <tr>\n",
       "      <th>0</th>\n",
       "      <td>ASIAN EXPORTERS FEAR DAMAGE FROM U.S.-JAPAN RI...</td>\n",
       "      <td>[trade]</td>\n",
       "      <td>1</td>\n",
       "      <td>trade</td>\n",
       "    </tr>\n",
       "    <tr>\n",
       "      <th>1</th>\n",
       "      <td>CHINA DAILY SAYS VERMIN EAT 7-12 PCT GRAIN STO...</td>\n",
       "      <td>[grain]</td>\n",
       "      <td>1</td>\n",
       "      <td>grain</td>\n",
       "    </tr>\n",
       "    <tr>\n",
       "      <th>2</th>\n",
       "      <td>JAPAN TO REVISE LONG-TERM ENERGY DEMAND DOWNWA...</td>\n",
       "      <td>[crude, nat-gas]</td>\n",
       "      <td>2</td>\n",
       "      <td>crude</td>\n",
       "    </tr>\n",
       "    <tr>\n",
       "      <th>3</th>\n",
       "      <td>THAI TRADE DEFICIT WIDENS IN FIRST QUARTER\\n  ...</td>\n",
       "      <td>[corn, grain, rice, rubber, sugar, tin, trade]</td>\n",
       "      <td>7</td>\n",
       "      <td>grain</td>\n",
       "    </tr>\n",
       "    <tr>\n",
       "      <th>4</th>\n",
       "      <td>INDONESIA SEES CPO PRICE RISING SHARPLY\\n  Ind...</td>\n",
       "      <td>[palm-oil, veg-oil]</td>\n",
       "      <td>2</td>\n",
       "      <td>veg-oil</td>\n",
       "    </tr>\n",
       "    <tr>\n",
       "      <th>...</th>\n",
       "      <td>...</td>\n",
       "      <td>...</td>\n",
       "      <td>...</td>\n",
       "      <td>...</td>\n",
       "    </tr>\n",
       "    <tr>\n",
       "      <th>10783</th>\n",
       "      <td>U.K. MONEY MARKET SHORTAGE FORECAST REVISED DO...</td>\n",
       "      <td>[interest, money-fx]</td>\n",
       "      <td>2</td>\n",
       "      <td>money-fx</td>\n",
       "    </tr>\n",
       "    <tr>\n",
       "      <th>10784</th>\n",
       "      <td>KNIGHT-RIDDER INC &amp;lt;KRN&gt; SETS QUARTERLY\\n  Q...</td>\n",
       "      <td>[earn]</td>\n",
       "      <td>1</td>\n",
       "      <td>earn</td>\n",
       "    </tr>\n",
       "    <tr>\n",
       "      <th>10785</th>\n",
       "      <td>TECHNITROL INC &amp;lt;TNL&gt; SETS QUARTERLY\\n  Qtly...</td>\n",
       "      <td>[earn]</td>\n",
       "      <td>1</td>\n",
       "      <td>earn</td>\n",
       "    </tr>\n",
       "    <tr>\n",
       "      <th>10786</th>\n",
       "      <td>NATIONWIDE CELLULAR SERVICE INC &amp;lt;NCEL&gt; 4TH ...</td>\n",
       "      <td>[earn]</td>\n",
       "      <td>1</td>\n",
       "      <td>earn</td>\n",
       "    </tr>\n",
       "    <tr>\n",
       "      <th>10787</th>\n",
       "      <td>&amp;lt;A.H.A. AUTOMOTIVE TECHNOLOGIES CORP&gt; YEAR ...</td>\n",
       "      <td>[earn]</td>\n",
       "      <td>1</td>\n",
       "      <td>earn</td>\n",
       "    </tr>\n",
       "  </tbody>\n",
       "</table>\n",
       "<p>10788 rows × 4 columns</p>\n",
       "</div>"
      ],
      "text/plain": [
       "                                                    text  \\\n",
       "0      ASIAN EXPORTERS FEAR DAMAGE FROM U.S.-JAPAN RI...   \n",
       "1      CHINA DAILY SAYS VERMIN EAT 7-12 PCT GRAIN STO...   \n",
       "2      JAPAN TO REVISE LONG-TERM ENERGY DEMAND DOWNWA...   \n",
       "3      THAI TRADE DEFICIT WIDENS IN FIRST QUARTER\\n  ...   \n",
       "4      INDONESIA SEES CPO PRICE RISING SHARPLY\\n  Ind...   \n",
       "...                                                  ...   \n",
       "10783  U.K. MONEY MARKET SHORTAGE FORECAST REVISED DO...   \n",
       "10784  KNIGHT-RIDDER INC &lt;KRN> SETS QUARTERLY\\n  Q...   \n",
       "10785  TECHNITROL INC &lt;TNL> SETS QUARTERLY\\n  Qtly...   \n",
       "10786  NATIONWIDE CELLULAR SERVICE INC &lt;NCEL> 4TH ...   \n",
       "10787  &lt;A.H.A. AUTOMOTIVE TECHNOLOGIES CORP> YEAR ...   \n",
       "\n",
       "                                               labels  num_labels top_label  \n",
       "0                                             [trade]           1     trade  \n",
       "1                                             [grain]           1     grain  \n",
       "2                                    [crude, nat-gas]           2     crude  \n",
       "3      [corn, grain, rice, rubber, sugar, tin, trade]           7     grain  \n",
       "4                                 [palm-oil, veg-oil]           2   veg-oil  \n",
       "...                                               ...         ...       ...  \n",
       "10783                            [interest, money-fx]           2  money-fx  \n",
       "10784                                          [earn]           1      earn  \n",
       "10785                                          [earn]           1      earn  \n",
       "10786                                          [earn]           1      earn  \n",
       "10787                                          [earn]           1      earn  \n",
       "\n",
       "[10788 rows x 4 columns]"
      ]
     },
     "execution_count": 48,
     "metadata": {},
     "output_type": "execute_result"
    }
   ],
   "source": [
    "single_label_df"
   ]
  },
  {
   "cell_type": "code",
   "execution_count": 50,
   "id": "8d72263f-5485-4889-9917-3e230d1116f4",
   "metadata": {},
   "outputs": [],
   "source": []
  },
  {
   "cell_type": "code",
   "execution_count": 55,
   "id": "f623fcbb-16b5-4a04-a328-cdb2fc3908e6",
   "metadata": {},
   "outputs": [],
   "source": [
    "label_count_df = single_label_df['top_label'].value_counts().reset_index()\n",
    "filter_labels = label_count_df[label_count_df['count']>50]['top_label']"
   ]
  },
  {
   "cell_type": "code",
   "execution_count": 57,
   "id": "efb68562-bd1b-4606-8e6a-e3d8f6cc1d14",
   "metadata": {},
   "outputs": [],
   "source": [
    "filtered_single_label_df = single_label_df[single_label_df['top_label'].isin(filter_labels)]"
   ]
  },
  {
   "cell_type": "code",
   "execution_count": 59,
   "id": "e2de6057-b6ff-4312-a526-01093a6bec17",
   "metadata": {},
   "outputs": [],
   "source": [
    "filtered_single_label_df.to_csv('single_label_df.csv', index=False)"
   ]
  },
  {
   "cell_type": "code",
   "execution_count": null,
   "id": "7b03c16d-306d-4b93-9408-7074cc7fe86b",
   "metadata": {},
   "outputs": [],
   "source": []
  },
  {
   "cell_type": "markdown",
   "id": "3d473d81-23e5-4b44-a14f-2eb9ebb2248d",
   "metadata": {},
   "source": [
    "## Multi Label Data Preparation"
   ]
  },
  {
   "cell_type": "code",
   "execution_count": 73,
   "id": "25620b57-9553-4945-aa7e-c22e4443d81b",
   "metadata": {},
   "outputs": [],
   "source": [
    "multi_df = df.copy(deep=True)"
   ]
  },
  {
   "cell_type": "code",
   "execution_count": 74,
   "id": "11b36a3c-4203-44fe-bd69-5a20fd7a9f13",
   "metadata": {},
   "outputs": [],
   "source": [
    "multi_label_count = defaultdict(lambda: 0)"
   ]
  },
  {
   "cell_type": "code",
   "execution_count": 75,
   "id": "59d5acd8-e09e-44fc-9170-f8869d8d7c1a",
   "metadata": {},
   "outputs": [],
   "source": [
    "for i in range(len(multi_df)):\n",
    "    labels = multi_df['labels'].iloc[i]\n",
    "    for label in labels:\n",
    "        multi_label_count[label] += 1"
   ]
  },
  {
   "cell_type": "code",
   "execution_count": 76,
   "id": "a149acaa-1408-4f29-9b05-a23c430bd6a2",
   "metadata": {},
   "outputs": [],
   "source": [
    "filtered_multi_label_dict = {}\n",
    "for key, value in multi_label_count.items():\n",
    "    if value > 50:\n",
    "        filtered_multi_label_dict[key] = value"
   ]
  },
  {
   "cell_type": "code",
   "execution_count": 78,
   "id": "a28747ab-9f2c-41c0-b794-eb7466888a70",
   "metadata": {},
   "outputs": [
    {
     "name": "stderr",
     "output_type": "stream",
     "text": [
      "IOPub data rate exceeded.\n",
      "The Jupyter server will temporarily stop sending output\n",
      "to the client in order to avoid crashing it.\n",
      "To change this limit, set the config variable\n",
      "`--ServerApp.iopub_data_rate_limit`.\n",
      "\n",
      "Current values:\n",
      "ServerApp.iopub_data_rate_limit=1000000.0 (bytes/sec)\n",
      "ServerApp.rate_limit_window=3.0 (secs)\n",
      "\n"
     ]
    }
   ],
   "source": [
    "multi_df['filtered_labels'] = None\n",
    "for i in range(len(multi_df)):\n",
    "    multi_df['filtered_labels'].iloc[i] = [item for item in multi_df['labels'].iloc[i] if item in filtered_multi_label_dict.keys() ]"
   ]
  },
  {
   "cell_type": "code",
   "execution_count": 80,
   "id": "ebdf31ff-df8b-4f68-b8b7-38ca84fdf146",
   "metadata": {},
   "outputs": [],
   "source": [
    "multi_df.to_csv('multi_label_df.csv', index=False)"
   ]
  },
  {
   "cell_type": "code",
   "execution_count": 81,
   "id": "4de44a3e-ddea-40fa-95a5-5d953c99ce6a",
   "metadata": {},
   "outputs": [
    {
     "data": {
      "text/plain": [
       "dict_keys(['trade', 'grain', 'crude', 'nat-gas', 'corn', 'rice', 'sugar', 'veg-oil', 'ship', 'coffee', 'wheat', 'gold', 'acq', 'interest', 'money-fx', 'copper', 'ipi', 'carcass', 'livestock', 'oilseed', 'soybean', 'earn', 'bop', 'gas', 'jobs', 'cpi', 'gnp', 'dlr', 'yen', 'cocoa', 'cotton', 'money-supply', 'iron-steel', 'alum', 'reserves', 'barley'])"
      ]
     },
     "execution_count": 81,
     "metadata": {},
     "output_type": "execute_result"
    }
   ],
   "source": [
    "filtered_multi_label_dict.keys()"
   ]
  },
  {
   "cell_type": "code",
   "execution_count": null,
   "id": "36b4dd7b-a14d-45fd-b930-058401c3e944",
   "metadata": {},
   "outputs": [],
   "source": []
  }
 ],
 "metadata": {
  "kernelspec": {
   "display_name": "Python 3 (ipykernel)",
   "language": "python",
   "name": "python3"
  },
  "language_info": {
   "codemirror_mode": {
    "name": "ipython",
    "version": 3
   },
   "file_extension": ".py",
   "mimetype": "text/x-python",
   "name": "python",
   "nbconvert_exporter": "python",
   "pygments_lexer": "ipython3",
   "version": "3.10.12"
  }
 },
 "nbformat": 4,
 "nbformat_minor": 5
}
